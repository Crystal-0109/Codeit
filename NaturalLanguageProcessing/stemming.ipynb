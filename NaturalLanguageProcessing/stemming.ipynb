{
 "cells": [
  {
   "cell_type": "code",
   "execution_count": 1,
   "metadata": {},
   "outputs": [
    {
     "name": "stderr",
     "output_type": "stream",
     "text": [
      "[nltk_data] Downloading package punkt to\n",
      "[nltk_data]     C:\\Users\\parkf\\AppData\\Roaming\\nltk_data...\n",
      "[nltk_data]   Package punkt is already up-to-date!\n"
     ]
    }
   ],
   "source": [
    "from nltk.tokenize import word_tokenize\n",
    "import nltk\n",
    "nltk.download('punkt')\n",
    "from nltk.stem import PorterStemmer"
   ]
  },
  {
   "cell_type": "code",
   "execution_count": 2,
   "metadata": {},
   "outputs": [],
   "source": [
    "# 포터 스테머 알고리즘\n",
    "porter_stemmer = PorterStemmer()\n",
    "text = \"You are so lovely. I am loving you now.\"\n",
    "porter_stemmed_words = []\n",
    "\n",
    "# 단어 토큰화\n",
    "tokenized_words = nltk.word_tokenize(text)\n",
    "\n",
    "# 포터 스테머의 어간 추출\n",
    "for word in tokenized_words:\n",
    "    stem = porter_stemmer.stem(word)\n",
    "    porter_stemmed_words.append(stem)"
   ]
  },
  {
   "cell_type": "code",
   "execution_count": 3,
   "metadata": {},
   "outputs": [],
   "source": [
    "# 단어 토큰화\n",
    "tokenized_words = nltk.word_tokenize(text)"
   ]
  },
  {
   "cell_type": "code",
   "execution_count": 4,
   "metadata": {},
   "outputs": [],
   "source": [
    "# 포터 스테머의 어간 추출\n",
    "for word in tokenized_words:\n",
    "    stem = porter_stemmer.stem(word)\n",
    "    porter_stemmed_words.append(stem)"
   ]
  },
  {
   "cell_type": "code",
   "execution_count": 5,
   "metadata": {},
   "outputs": [
    {
     "name": "stdout",
     "output_type": "stream",
     "text": [
      "어간 추출 전 : ['You', 'are', 'so', 'lovely', '.', 'I', 'am', 'loving', 'you', 'now', '.']\n",
      "포터 스테머의 어간 추출 후: ['you', 'are', 'so', 'love', '.', 'i', 'am', 'love', 'you', 'now', '.', 'you', 'are', 'so', 'love', '.', 'i', 'am', 'love', 'you', 'now', '.']\n"
     ]
    }
   ],
   "source": [
    "# 결과 확인\n",
    "print('어간 추출 전 :', tokenized_words)\n",
    "print('포터 스테머의 어간 추출 후:', porter_stemmed_words)"
   ]
  },
  {
   "cell_type": "code",
   "execution_count": 6,
   "metadata": {},
   "outputs": [],
   "source": [
    "# 랭커스터 스테머 알고리즘\n",
    "from nltk.stem import LancasterStemmer\n",
    "\n",
    "lancaster_stemmer = LancasterStemmer()\n",
    "text = \"You are so lovely. I am loving you now.\"\n",
    "lancaster_stemmed_words = []\n",
    "\n",
    "# 랭커스터 스테머의 어간 추출\n",
    "for word in tokenized_words:\n",
    "    stem = lancaster_stemmer.stem(word)\n",
    "    lancaster_stemmed_words.append(stem)"
   ]
  },
  {
   "cell_type": "code",
   "execution_count": 7,
   "metadata": {},
   "outputs": [
    {
     "name": "stdout",
     "output_type": "stream",
     "text": [
      "어간 추출 전 : ['You', 'are', 'so', 'lovely', '.', 'I', 'am', 'loving', 'you', 'now', '.']\n",
      "랭커스터 스테머의 어간 추출 후: ['you', 'ar', 'so', 'lov', '.', 'i', 'am', 'lov', 'you', 'now', '.']\n"
     ]
    }
   ],
   "source": [
    "# 결과 확인\n",
    "print('어간 추출 전 :', tokenized_words)\n",
    "print('랭커스터 스테머의 어간 추출 후:', lancaster_stemmed_words)"
   ]
  }
 ],
 "metadata": {
  "kernelspec": {
   "display_name": "Python 3",
   "language": "python",
   "name": "python3"
  },
  "language_info": {
   "codemirror_mode": {
    "name": "ipython",
    "version": 3
   },
   "file_extension": ".py",
   "mimetype": "text/x-python",
   "name": "python",
   "nbconvert_exporter": "python",
   "pygments_lexer": "ipython3",
   "version": "3.10.11"
  }
 },
 "nbformat": 4,
 "nbformat_minor": 2
}
