{
 "cells": [
  {
   "cell_type": "code",
   "execution_count": 17,
   "metadata": {},
   "outputs": [
    {
     "name": "stderr",
     "output_type": "stream",
     "text": [
      "[nltk_data] Downloading package punkt to\n",
      "[nltk_data]     C:\\Users\\parkf\\AppData\\Roaming\\nltk_data...\n",
      "[nltk_data]   Package punkt is already up-to-date!\n",
      "[nltk_data] Downloading package stopwords to\n",
      "[nltk_data]     C:\\Users\\parkf\\AppData\\Roaming\\nltk_data...\n",
      "[nltk_data]   Package stopwords is already up-to-date!\n"
     ]
    },
    {
     "data": {
      "text/plain": [
       "True"
      ]
     },
     "execution_count": 17,
     "metadata": {},
     "output_type": "execute_result"
    }
   ],
   "source": [
    "import nltk\n",
    "from nltk.tokenize import word_tokenize\n",
    "from nltk.corpus import stopwords\n",
    "nltk.download('punkt')\n",
    "nltk.download('stopwords')"
   ]
  },
  {
   "cell_type": "code",
   "execution_count": 31,
   "metadata": {},
   "outputs": [],
   "source": [
    "from text import TEXT\n",
    "corpus = TEXT\n",
    "\n",
    "# 등장 빈도가 2 이하인 단어들만 찾기\n",
    "from collections import Counter\n",
    "\n",
    "# 전체 단어 토큰 리스트\n",
    "tokenized_words = word_tokenize(corpus)\n",
    "\n",
    "# 파이썬의 Counter 모듈을 통해 단어의 빈도수 카운트하여 단어 집합 생성\n",
    "vocab = Counter(tokenized_words)\n",
    "\n",
    "# 빈도수가 2 이하인 단어 리스트 추출\n",
    "uncommon_words = [key for key, value in vocab.items() if value <= 2]\n",
    "\n",
    "# 빈도수가 2 이하인 단어들만 제거한 결과를 따로 저장\n",
    "cleaned_by_freq = [word for word in tokenized_words if word not in uncommon_words]\n",
    "\n",
    "# 길이가 2 이하인 단어 제거\n",
    "cleaned_by_freq_len = []\n",
    "\n",
    "for word in cleaned_by_freq:\n",
    "    if len(word) > 2:\n",
    "        cleaned_by_freq_len.append(word)\n",
    "\n"
   ]
  },
  {
   "cell_type": "code",
   "execution_count": 32,
   "metadata": {},
   "outputs": [
    {
     "name": "stdout",
     "output_type": "stream",
     "text": [
      "불용어 개수 : 179\n",
      "{'an', 'how', 'each', 'about', 'll', 'but', 'such', \"mustn't\", 'at', 'yourself', 'both', 'hers', 'up', 'me', 'any', 'aren', 'after', \"haven't\", \"shouldn't\", 'what', 'while', 'not', 'most', 'nor', 'does', 'all', 'were', 'now', 'again', \"you'd\", \"hadn't\", 'more', 'just', 't', 'when', 'doesn', 'no', 'their', \"isn't\", 'over', 'is', 'off', 'against', 'was', 'under', 'be', 'them', 'yourselves', 'because', \"weren't\", 'ourselves', 'him', 'a', 'couldn', 'theirs', 'why', 'our', \"she's\", 'her', 'this', 'out', 'don', \"wasn't\", 'until', 'if', 'i', 'do', 'isn', 'y', \"didn't\", 'weren', 'mightn', 'm', 'he', \"aren't\", 'his', 'between', \"that'll\", \"you'll\", 'for', 'by', 'or', 'through', 'own', 'didn', \"you've\", 'it', 'so', 'are', 'some', 'these', 'herself', 'into', \"couldn't\", 'wouldn', 'd', 'during', 'ain', 'hadn', 'can', 'too', 're', 'been', 'had', \"it's\", 's', \"should've\", 'did', 'where', 'myself', 'few', 'its', 'than', \"won't\", 'being', 'ma', 'ours', 'in', \"doesn't\", 'other', 'with', \"shan't\", 'themselves', 'you', 'above', 'shouldn', 'down', 'of', 'hasn', 'my', 'whom', 'having', 'will', 'haven', 'am', 'who', 'those', 'to', 'then', 'only', 'and', \"hasn't\", 'itself', 'yours', 'that', 'wasn', 'shan', 'won', 'himself', 'mustn', \"mightn't\", 'o', 'doing', 'the', 'we', 'from', \"don't\", \"wouldn't\", 'once', 'have', 'they', \"you're\", 'she', 'same', 'before', 'there', 'as', 'further', 'should', 'your', 'on', 'which', 'very', \"needn't\", 'below', 'has', 'here', 'needn', 've'}\n"
     ]
    }
   ],
   "source": [
    "# 불용어들을 세트 자료형으로 저장\n",
    "stopwords_set = set(stopwords.words('english'))\n",
    "\n",
    "print('불용어 개수 :', len(stopwords_set))\n",
    "print(stopwords_set)"
   ]
  },
  {
   "cell_type": "code",
   "execution_count": 33,
   "metadata": {},
   "outputs": [
    {
     "name": "stdout",
     "output_type": "stream",
     "text": [
      "불용어 개수 : 178\n",
      "불용어 출력 : {'an', 'how', 'each', 'about', 'll', 'but', 'such', \"mustn't\", 'at', 'yourself', 'both', 'hers', 'up', 'any', 'aren', 'after', \"haven't\", \"shouldn't\", 'what', 'while', 'not', 'most', 'nor', 'does', 'all', 'were', 'now', 'again', \"you'd\", \"hadn't\", 'more', 'just', 't', 'when', 'doesn', 'no', 'their', \"isn't\", 'over', 'is', 'off', 'against', 'was', 'under', 'be', 'them', 'yourselves', 'because', \"weren't\", 'ourselves', 'him', 'a', 'couldn', 'theirs', 'why', 'our', \"she's\", 'her', 'this', 'out', 'don', \"wasn't\", 'until', 'if', 'i', 'do', 'isn', 'y', \"didn't\", 'weren', 'mightn', 'm', 'he', \"aren't\", 'his', 'between', \"that'll\", \"you'll\", 'for', 'by', 'or', 'through', 'own', 'didn', \"you've\", 'it', 'so', 'are', 'some', 'these', 'herself', 'into', \"couldn't\", 'wouldn', 'd', 'during', 'ain', 'hadn', 'can', 'too', 're', 'been', 'had', \"it's\", 's', \"should've\", 'did', 'where', 'myself', 'few', 'its', 'than', \"won't\", 'being', 'ma', 'ours', 'in', \"doesn't\", 'other', 'with', \"shan't\", 'themselves', 'you', 'above', 'shouldn', 'down', 'of', 'hasn', 'my', 'whom', 'having', 'will', 'hello', 'haven', 'am', 'who', 'those', 'to', 'then', 'only', 'and', \"hasn't\", 'itself', 'yours', 'that', 'wasn', 'shan', 'won', 'himself', 'mustn', \"mightn't\", 'o', 'doing', 'we', 'from', \"don't\", \"wouldn't\", 'once', 'have', 'they', \"you're\", 'she', 'same', 'before', 'there', 'as', 'further', 'should', 'your', 'on', 'which', 'very', \"needn't\", 'below', 'has', 'here', 'needn', 've'}\n"
     ]
    }
   ],
   "source": [
    "# 원하는 불용어 추가, 삭제\n",
    "stopwords_set.add('hello')\n",
    "stopwords_set.remove('the')\n",
    "stopwords_set.remove('me')\n",
    "\n",
    "print('불용어 개수 :', len(stopwords_set))\n",
    "print('불용어 출력 :',stopwords_set)"
   ]
  },
  {
   "cell_type": "code",
   "execution_count": 34,
   "metadata": {},
   "outputs": [
    {
     "name": "stdout",
     "output_type": "stream",
     "text": [
      "{'ours', 'my', 'i', 'we', 'me', 'myself', 'our', 'ourselves'}\n"
     ]
    }
   ],
   "source": [
    "# 새로운 불용어 세트 정의\n",
    "my_stopwords_set = {'i', 'me', 'my', 'myself', 'we', 'our', 'ours', 'ourselves'}\n",
    "\n",
    "print(my_stopwords_set)"
   ]
  },
  {
   "cell_type": "code",
   "execution_count": 35,
   "metadata": {},
   "outputs": [],
   "source": [
    "# 불용어 제거\n",
    "stop_words_set = set(stopwords.words('english'))\n",
    "\n",
    "# 불용어 제거\n",
    "cleaned_words = []\n",
    "\n",
    "for word in cleaned_by_freq_len:\n",
    "    if word not in stop_words_set:\n",
    "        cleaned_words.append(word)"
   ]
  },
  {
   "cell_type": "code",
   "execution_count": 36,
   "metadata": {},
   "outputs": [
    {
     "name": "stdout",
     "output_type": "stream",
     "text": [
      "불용어 제거 전: 169\n",
      "불용어 제거 후: 67\n"
     ]
    }
   ],
   "source": [
    "# 불용어 제거 결과 확인\n",
    "print('불용어 제거 전:', len(cleaned_by_freq_len))\n",
    "print('불용어 제거 후:', len(cleaned_words))"
   ]
  }
 ],
 "metadata": {
  "kernelspec": {
   "display_name": "Python 3",
   "language": "python",
   "name": "python3"
  },
  "language_info": {
   "codemirror_mode": {
    "name": "ipython",
    "version": 3
   },
   "file_extension": ".py",
   "mimetype": "text/x-python",
   "name": "python",
   "nbconvert_exporter": "python",
   "pygments_lexer": "ipython3",
   "version": "3.10.11"
  }
 },
 "nbformat": 4,
 "nbformat_minor": 2
}
