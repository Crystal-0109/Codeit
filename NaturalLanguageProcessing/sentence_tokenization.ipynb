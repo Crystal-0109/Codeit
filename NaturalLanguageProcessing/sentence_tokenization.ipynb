{
 "cells": [
  {
   "cell_type": "code",
   "execution_count": 1,
   "metadata": {},
   "outputs": [
    {
     "name": "stderr",
     "output_type": "stream",
     "text": [
      "[nltk_data] Downloading package punkt to\n",
      "[nltk_data]     C:\\Users\\parkf\\AppData\\Roaming\\nltk_data...\n",
      "[nltk_data]   Package punkt is already up-to-date!\n"
     ]
    },
    {
     "data": {
      "text/plain": [
       "True"
      ]
     },
     "execution_count": 1,
     "metadata": {},
     "output_type": "execute_result"
    }
   ],
   "source": [
    "# 필요한 패키지와 함수 불러오기\n",
    "import nltk\n",
    "from nltk.tokenize import sent_tokenize\n",
    "nltk.download('punkt')"
   ]
  },
  {
   "cell_type": "code",
   "execution_count": 4,
   "metadata": {},
   "outputs": [
    {
     "name": "stdout",
     "output_type": "stream",
     "text": [
      "[\"My email address is 'abcde@codeit.com'.\", 'Send it to Mr.Kim.']\n"
     ]
    }
   ],
   "source": [
    "# 예시 1\n",
    "text = \"My email address is 'abcde@codeit.com'. Send it to Mr.Kim.\"\n",
    "\n",
    "# 문장 토큰화\n",
    "tokenized_sents = sent_tokenize(text)\n",
    "\n",
    "print(tokenized_sents)"
   ]
  },
  {
   "cell_type": "code",
   "execution_count": 3,
   "metadata": {},
   "outputs": [
    {
     "name": "stdout",
     "output_type": "stream",
     "text": [
      "['Can you forward my email to Mr.Kim?', 'Thank you!']\n"
     ]
    }
   ],
   "source": [
    "# 예시 2\n",
    "text = \"Can you forward my email to Mr.Kim? Thank you!\"\n",
    "\n",
    "tokenized_sents = sent_tokenize(text)\n",
    "\n",
    "print(tokenized_sents)"
   ]
  }
 ],
 "metadata": {
  "kernelspec": {
   "display_name": "Python 3",
   "language": "python",
   "name": "python3"
  },
  "language_info": {
   "codemirror_mode": {
    "name": "ipython",
    "version": 3
   },
   "file_extension": ".py",
   "mimetype": "text/x-python",
   "name": "python",
   "nbconvert_exporter": "python",
   "pygments_lexer": "ipython3",
   "version": "3.10.11"
  }
 },
 "nbformat": 4,
 "nbformat_minor": 2
}
